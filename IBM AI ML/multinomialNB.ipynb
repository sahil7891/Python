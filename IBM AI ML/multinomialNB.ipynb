{
 "cells": [
  {
   "cell_type": "code",
   "execution_count": 1,
   "metadata": {
    "id": "SJBcr4hDlFTa",
    "outputId": "5bc35e5f-fdc3-4b5a-bf70-50e1b3cf0057"
   },
   "outputs": [
    {
     "data": {
      "text/html": [
       "<div>\n",
       "<style scoped>\n",
       "    .dataframe tbody tr th:only-of-type {\n",
       "        vertical-align: middle;\n",
       "    }\n",
       "\n",
       "    .dataframe tbody tr th {\n",
       "        vertical-align: top;\n",
       "    }\n",
       "\n",
       "    .dataframe thead th {\n",
       "        text-align: right;\n",
       "    }\n",
       "</style>\n",
       "<table border=\"1\" class=\"dataframe\">\n",
       "  <thead>\n",
       "    <tr style=\"text-align: right;\">\n",
       "      <th></th>\n",
       "      <th>Title</th>\n",
       "      <th>Label</th>\n",
       "    </tr>\n",
       "  </thead>\n",
       "  <tbody>\n",
       "    <tr>\n",
       "      <th>0</th>\n",
       "      <td>I love India. India!</td>\n",
       "      <td>0</td>\n",
       "    </tr>\n",
       "    <tr>\n",
       "      <th>1</th>\n",
       "      <td>India is best</td>\n",
       "      <td>1</td>\n",
       "    </tr>\n",
       "    <tr>\n",
       "      <th>2</th>\n",
       "      <td>Germany beats both</td>\n",
       "      <td>1</td>\n",
       "    </tr>\n",
       "  </tbody>\n",
       "</table>\n",
       "</div>"
      ],
      "text/plain": [
       "                  Title  Label\n",
       "0  I love India. India!      0\n",
       "1         India is best      1\n",
       "2    Germany beats both      1"
      ]
     },
     "execution_count": 1,
     "metadata": {},
     "output_type": "execute_result"
    }
   ],
   "source": [
    "import numpy as np\n",
    "import pandas as pd\n",
    "\n",
    "df= pd.read_csv(\"textclass.csv\")\n",
    "df"
   ]
  },
  {
   "cell_type": "code",
   "execution_count": 2,
   "metadata": {
    "id": "okeNdJcAlFTd",
    "outputId": "045518b0-779a-4359-cb96-8fa58e1ab555"
   },
   "outputs": [
    {
     "data": {
      "text/plain": [
       "0    I love India. India!\n",
       "1           India is best\n",
       "2      Germany beats both\n",
       "Name: Title, dtype: object"
      ]
     },
     "execution_count": 2,
     "metadata": {},
     "output_type": "execute_result"
    }
   ],
   "source": [
    "y=df[\"Label\"]\n",
    "x=df[\"Title\"]\n",
    "x"
   ]
  },
  {
   "cell_type": "markdown",
   "metadata": {
    "id": "Ay0Bz4oWlFTe"
   },
   "source": [
    "from sklearn.preprocessing import LabelEncoder\n",
    "\n",
    "le=LabelEncoder()\n",
    "x=le.fit_transform(x)\n",
    "x"
   ]
  },
  {
   "cell_type": "code",
   "execution_count": 3,
   "metadata": {
    "id": "EcRfVnN1lFTf",
    "outputId": "ab866952-6c41-401b-dda2-e2a114229a12"
   },
   "outputs": [
    {
     "name": "stdout",
     "output_type": "stream",
     "text": [
      "{'love': 6, 'india': 4, 'is': 5, 'best': 1, 'germany': 3, 'beats': 0, 'both': 2}\n"
     ]
    }
   ],
   "source": [
    "\t\t\t\t  \t\t\t\t\t  \n",
    "###############################################################################################\n",
    "# the words need to be encoded as integers or floating point values for use as input to a ML algorithm\t\t\t\t\t  \n",
    "\t\t\t\t\n",
    "#################################################################################################\t\t\t\t\n",
    "# Create bag of words\n",
    "from sklearn.feature_extraction.text import CountVectorizer\n",
    "\n",
    "count = CountVectorizer() \n",
    "\"\"\"CountVectorizer : vector is returned with a length of the entire vocabulary \n",
    "and an integer count for the number of times each word appeared in the document.\"\"\"\n",
    "\n",
    "\n",
    "\n",
    "count.fit(x)  \n",
    "\n",
    "\n",
    "print(count.vocabulary_) \n",
    "#{'love': 6, 'india': 4, 'is': 5, 'best': 1, 'germany': 3, 'beats': 0, 'both': 2}\n",
    "\n"
   ]
  },
  {
   "cell_type": "code",
   "execution_count": 4,
   "metadata": {
    "id": "rqeCLtuFlFTg",
    "outputId": "04a550bc-cabb-4ef5-8d32-4fca13a18808"
   },
   "outputs": [
    {
     "name": "stdout",
     "output_type": "stream",
     "text": [
      "  (0, 6)\t1\n",
      "  (0, 4)\t2\n",
      "  (1, 4)\t1\n",
      "  (1, 5)\t1\n",
      "  (1, 1)\t1\n",
      "  (2, 3)\t1\n",
      "  (2, 0)\t1\n",
      "  (2, 2)\t1\n"
     ]
    },
    {
     "data": {
      "text/plain": [
       "<3x7 sparse matrix of type '<class 'numpy.int64'>'\n",
       "\twith 8 stored elements in Compressed Sparse Row format>"
      ]
     },
     "execution_count": 4,
     "metadata": {},
     "output_type": "execute_result"
    }
   ],
   "source": [
    "\n",
    "bag_of_words = count.fit_transform(x)\n",
    "print(bag_of_words)\n",
    "\n",
    "\n",
    "bag_of_words"
   ]
  },
  {
   "cell_type": "code",
   "execution_count": null,
   "metadata": {
    "id": "eE2Q0o_8lFTh"
   },
   "outputs": [],
   "source": [
    "\n"
   ]
  },
  {
   "cell_type": "code",
   "execution_count": 5,
   "metadata": {
    "id": "xk0TrY2KlFTi",
    "outputId": "925b6f36-f583-4b43-9759-b12e1e812e19"
   },
   "outputs": [
    {
     "name": "stdout",
     "output_type": "stream",
     "text": [
      "[[0 0 0 0 2 0 1]\n",
      " [0 1 0 0 1 1 0]\n",
      " [1 0 1 1 0 0 0]]\n"
     ]
    },
    {
     "data": {
      "text/plain": [
       "\"\\n#{'love': 6, 'india': 4, 'is': 5, 'best': 1, 'germany': 3, 'beats': 0, 'both': 2} \\n# 7 columns because we have 7 seperate words in our dataset and 3 rows because we have 3 rows in dataset\\n[[0 0 0 0 2 0 1]  \\n [0 1 0 0 1 1 0]\\n [1 0 1 1 0 0 0]]\\n\""
      ]
     },
     "execution_count": 5,
     "metadata": {},
     "output_type": "execute_result"
    }
   ],
   "source": [
    "# Create feature matrix\n",
    "X = bag_of_words.toarray()\n",
    "print(X)\n",
    "\"\"\"\n",
    "#{'love': 6, 'india': 4, 'is': 5, 'best': 1, 'germany': 3, 'beats': 0, 'both': 2} \n",
    "# 7 columns because we have 7 seperate words in our dataset and 3 rows because we have 3 rows in dataset\n",
    "[[0 0 0 0 2 0 1]  \n",
    " [0 1 0 0 1 1 0]\n",
    " [1 0 1 1 0 0 0]]\n",
    "\"\"\" \n",
    "\n"
   ]
  },
  {
   "cell_type": "code",
   "execution_count": 8,
   "metadata": {
    "id": "XXwEPvIilFTi",
    "outputId": "86e6856d-8c52-44ad-8148-8cf169c6bb23"
   },
   "outputs": [
    {
     "name": "stdout",
     "output_type": "stream",
     "text": [
      "  (0, 3)\t1\n",
      "  (0, 6)\t1\n"
     ]
    },
    {
     "data": {
      "text/plain": [
       "array([[0, 0, 0, 1, 0, 0, 1]], dtype=int64)"
      ]
     },
     "execution_count": 8,
     "metadata": {},
     "output_type": "execute_result"
    }
   ],
   "source": [
    "\n",
    "\n",
    "# Create multinomial naive Bayes object with prior probabilities of each class\n",
    "from sklearn.naive_bayes import MultinomialNB\n",
    "clf = MultinomialNB()\n",
    "\n",
    "# Train model\n",
    "model = clf.fit(X, y)\n",
    "\n",
    "\n",
    "#xtest=np.array([\"India is my country. I want to go germany, India\"])\n",
    "xtest=np.array([\"love germany\"])\n",
    "xtest=count.transform(xtest)\n",
    "print(xtest)\n",
    "xtest=xtest.toarray()\n",
    "xtest\n"
   ]
  },
  {
   "cell_type": "code",
   "execution_count": 9,
   "metadata": {
    "id": "3YeRmMrVlFTj",
    "outputId": "6f517b42-ce11-441f-9aad-1d042b4cddfc"
   },
   "outputs": [
    {
     "name": "stdout",
     "output_type": "stream",
     "text": [
      "[1]\n"
     ]
    }
   ],
   "source": [
    "\n",
    "pred=clf.predict(xtest)\n",
    "\n",
    "# Create new observation\n",
    "#new_observation = [[0, 0, 0, 1, 0, 1, 0]]    \n",
    "#new_observation = [[0, 0, 0, 1, 1, 1, 1]]    \n",
    "#new_observation = [[0, 0, 1, 1, 1, 1, 1]]    \n",
    "\n",
    "\n",
    "# Predict new observation's class\n",
    "#pred = model.predict(new_observation)\n",
    "print(pred)\n",
    "\t\t\t\t\t  \n",
    "\t\t\n",
    "        "
   ]
  }
 ],
 "metadata": {
  "colab": {
   "name": "multinomail.ipynb",
   "provenance": []
  },
  "kernelspec": {
   "display_name": "Python 3 (ipykernel)",
   "language": "python",
   "name": "python3"
  },
  "language_info": {
   "codemirror_mode": {
    "name": "ipython",
    "version": 3
   },
   "file_extension": ".py",
   "mimetype": "text/x-python",
   "name": "python",
   "nbconvert_exporter": "python",
   "pygments_lexer": "ipython3",
   "version": "3.9.7"
  }
 },
 "nbformat": 4,
 "nbformat_minor": 1
}
