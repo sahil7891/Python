{
 "cells": [
  {
   "cell_type": "code",
   "execution_count": null,
   "metadata": {},
   "outputs": [],
   "source": [
    "import cv2\n",
    "img=cv2.imread(\"caps.jpg\")\n",
    "cv2.imshow(\"output\",img)\n",
    "cv2.waitKey(0)"
   ]
  },
  {
   "cell_type": "code",
   "execution_count": null,
   "metadata": {},
   "outputs": [],
   "source": [
    "##convertr into gray scale \n",
    "import cv2\n",
    "import numpy as np\n",
    "img=cv2.imread(\"caps.jpg\")\n",
    "#define kernel by numpy\n",
    "kernel=np.ones((5,5),np.uint8)\n",
    "img_gray=cv2.cvtColor(img,cv2.COLOR_BGR2GRAY)\n",
    "#blur function to blur aour image\n",
    "blur_img=cv2.GaussianBlur(img_gray,(7,7),0)\n",
    "#edge detector\n",
    "imgcanny=cv2.Canny(img,150,200)\n",
    "#dialation\n",
    "imgdialation=cv2.dilate(imgcanny,kernel,iterations=1)\n",
    "# opp. of dialtion i.e eroded\n",
    "imgeroded=cv2.erode(imgdialation,kernel,iterations=1)\n",
    "cv2.imshow(\"gray\",img_gray)\n",
    "cv2.waitKey(0)\n",
    "cv2.imshow(\"blur\",blur_img)\n",
    "cv2.waitKey(0)\n",
    "cv2.imshow(\"canny\",imgcanny)\n",
    "cv2.waitKey(0)\n",
    "cv2.imshow(\"dilation\",imgdialation)\n",
    "cv2.waitKey(0)\n",
    "cv2.imshow(\"eroded\",imgeroded)\n",
    "cv2.waitKey(0)"
   ]
  },
  {
   "cell_type": "code",
   "execution_count": null,
   "metadata": {},
   "outputs": [],
   "source": [
    "\n",
    "import cv2\n",
    "import numpy as np\n",
    "img=cv2.imread(\"caps.jpg\")\n",
    "\n",
    "#resize the image (width,height)\n",
    "imgresize=cv2.resize(img,(300,200))\n",
    "\n",
    "#crop image(height,width)\n",
    "imgcropped=img[200:500,200:500]\n",
    "\n",
    "\n",
    "cv2.imshow(\"img\",img)\n",
    "#cv2.imshow(\"imgresize\",imgresize)\n",
    "cv2.imshow(\"cropimage\",imgcropped)\n",
    "print(img.shape)\n",
    "cv2.waitKey(0)\n"
   ]
  },
  {
   "cell_type": "code",
   "execution_count": null,
   "metadata": {},
   "outputs": [],
   "source": [
    "#shapes and text on images\n",
    "#0 means black it will give the outcome of bacl screen\n",
    "import numpy as np\n",
    "import cv2\n",
    "img=cv2.imread(\"cap.jpeg\")\n",
    "print(img.shape)\n",
    "#print(img)\n",
    "cv2.imshow(\"img\",img)\n",
    "\n",
    "#height:width\n",
    "img[400:500,250:650]=255,0,0# for specific area to color\n",
    "#img[:,:]=255,0,0# for whole area to color\n",
    "cv2.imshow(\"newimg\",img)\n",
    "cv2.waitKey(0)"
   ]
  },
  {
   "cell_type": "code",
   "execution_count": null,
   "metadata": {},
   "outputs": [],
   "source": [
    "## shapes and text on images\n",
    "#0 means black it will give the outcome of black screen\n",
    "import numpy as np\n",
    "import cv2\n",
    "img=np.zeros((512,512,3),np.uint8)\n",
    "print(img.shape)\n",
    "print(img)\n",
    "#height:width\n",
    "#img[200:300,100:300]=255,0,0# for specific area to color\n",
    "img[:,:]=255,0,0# for whole area to color\n",
    "cv2.imshow(\"img\",img)\n",
    "cv2.waitKey(0)"
   ]
  },
  {
   "cell_type": "code",
   "execution_count": null,
   "metadata": {},
   "outputs": [],
   "source": [
    "#how to craete lines\n",
    "#0 means black it will give the outcome of bacl screen\n",
    "import numpy as np\n",
    "import cv2\n",
    "img=np.zeros((512,512,3),np.uint8)\n",
    "print(img.shape)\n",
    "\n",
    "# craete lines\n",
    "\n",
    "cv2.line(img,(0,0),(300,300),(0,255,0),3)\n",
    "#widthand height \n",
    "cv2.line(img,(0,0),(img.shape[1],img.shape[0]),(0,255,0),3)\n",
    "\n",
    "#rectangle\n",
    "#cv2.rectangle (img,(0,0),(250,350),(0,0,255),2)\n",
    "#fill rectangle\n",
    "cv2.rectangle (img,(0,0),(250,350),(0,0,255),5)\n",
    "\n",
    "\n",
    "#Circle\n",
    "cv2.circle(img,(400,50),30,(255,255,0),4)\n",
    "\n",
    "#put text\n",
    "cv2.putText(img,\"OPENCV\",(300,200),cv2.FONT_HERSHEY_COMPLEX,1,(0,150,0),3)#img name,text,dimension,fontstyle,fontsize,colour,thickness\n",
    "cv2.imshow(\"img\",img)\n",
    "cv2.waitKey(0)"
   ]
  },
  {
   "cell_type": "code",
   "execution_count": null,
   "metadata": {},
   "outputs": [],
   "source": [
    "#warp presperative\n",
    "import cv2\n",
    "img=cv2.imread(\"card.jpg\")\n",
    "width,height=250,350\n",
    "pts1=np.float32([[411,4],[682,161],[169,434],[454,590]])\n",
    "pts2=np.float32([[0,0],[width,0],[0,height],[width,height]])\n",
    "metrix=cv2.getPerspectiveTransform(pts1,pts2)\n",
    "imgoutput=cv2.warpPerspective(img,metrix,(width,height))\n",
    "cv2.imshow(\"img\",img)\n",
    "cv2.imshow(\"output\",imgoutput)\n",
    "cv2.waitKey(0)"
   ]
  },
  {
   "cell_type": "code",
   "execution_count": null,
   "metadata": {},
   "outputs": [],
   "source": [
    "# merging the image horizontal stack\n",
    "import cv2\n",
    "img=cv2.imread(\"card.jpg\")\n",
    "hor=np.hstack((img,img))\n",
    "cv2.imshow(\"horimg\",hor)\n",
    "cv2.waitKey(0)\n",
    "\n",
    "# merging the image vertical stack\n",
    "import cv2\n",
    "img=cv2.imread(\"card.jpg\")\n",
    "ver=np.vstack((img,img))\n",
    "cv2.imshow(\"verimg\",ver)\n",
    "cv2.waitKey(0)"
   ]
  },
  {
   "cell_type": "code",
   "execution_count": null,
   "metadata": {},
   "outputs": [],
   "source": [
    "\n"
   ]
  }
 ],
 "metadata": {
  "kernelspec": {
   "display_name": "Python 3 (ipykernel)",
   "language": "python",
   "name": "python3"
  },
  "language_info": {
   "codemirror_mode": {
    "name": "ipython",
    "version": 3
   },
   "file_extension": ".py",
   "mimetype": "text/x-python",
   "name": "python",
   "nbconvert_exporter": "python",
   "pygments_lexer": "ipython3",
   "version": "3.9.7"
  }
 },
 "nbformat": 4,
 "nbformat_minor": 4
}
