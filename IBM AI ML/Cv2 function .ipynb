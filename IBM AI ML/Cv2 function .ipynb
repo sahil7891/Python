{
 "cells": [
  {
   "cell_type": "code",
   "execution_count": null,
   "metadata": {},
   "outputs": [],
   "source": [
    "import cv2\n",
    "img = cv2.imread('caps.jpg')\n",
    "cv2.imshow('OutputImage',img)\n",
    "cv2.waitKey(0)\n",
    "\n",
    " "
   ]
  },
  {
   "cell_type": "code",
   "execution_count": null,
   "metadata": {},
   "outputs": [],
   "source": [
    "import cv2\n",
    "img= cv2.imread('caps.jpg')\n",
    "cv2.imshow('output',img)\n",
    "print(img.shape)\n",
    "print(\"Height pixel values : \", img.shape[0])\n",
    "print(\"Width pixel values : \", img.shape[1])\n",
    "\n",
    "cv2.waitKey(0)\n",
    "#cv2.destroyAllwindows()\n"
   ]
  },
  {
   "cell_type": "code",
   "execution_count": null,
   "metadata": {},
   "outputs": [],
   "source": [
    "img"
   ]
  },
  {
   "cell_type": "code",
   "execution_count": 2,
   "metadata": {},
   "outputs": [
    {
     "name": "stdout",
     "output_type": "stream",
     "text": [
      "SHAPE OF ORIGINAL IMAGE (275, 183, 3)\n",
      "SHAPE OF GRAY SCALE IMAGE (275, 183)\n"
     ]
    },
    {
     "data": {
      "text/plain": [
       "-1"
      ]
     },
     "execution_count": 2,
     "metadata": {},
     "output_type": "execute_result"
    }
   ],
   "source": [
    "#Example of converting RGB mage into gray scale:\n",
    "import cv2\n",
    "img= cv2.imread('caps.jpg')\n",
    "print(\"SHAPE OF ORIGINAL IMAGE\",img.shape)\n",
    "\n",
    "cv2.imshow(\"original\",img)\n",
    "cv2.waitKey(0)\n",
    "gray_img = cv2.cvtColor(img, cv2.COLOR_BGR2GRAY)\n",
    "print(\"SHAPE OF GRAY SCALE IMAGE\",gray_img.shape)\n",
    "\n",
    "# for showing image\n",
    "cv2.imshow(\"GrayscaleImage\",gray_img)\n",
    "# for holding image\n",
    "cv2.waitKey(0) \n",
    "# clear all windows\n",
    "#cv2.destroyAllwindows() \n"
   ]
  },
  {
   "cell_type": "code",
   "execution_count": null,
   "metadata": {},
   "outputs": [],
   "source": [
    "gray_img"
   ]
  },
  {
   "cell_type": "code",
   "execution_count": null,
   "metadata": {},
   "outputs": [],
   "source": [
    "img"
   ]
  },
  {
   "cell_type": "code",
   "execution_count": 3,
   "metadata": {},
   "outputs": [
    {
     "name": "stdout",
     "output_type": "stream",
     "text": [
      "(275, 183, 3)\n"
     ]
    },
    {
     "data": {
      "text/plain": [
       "-1"
      ]
     },
     "execution_count": 3,
     "metadata": {},
     "output_type": "execute_result"
    }
   ],
   "source": [
    "#Example of converting RGB image into HSV color space:\n",
    "import cv2\n",
    "img= cv2.imread('caps.jpg')\n",
    "img_HSV = cv2.cvtColor(img, cv2.COLOR_BGR2HSV)\n",
    "print(img_HSV.shape)\n",
    "cv2.imshow('HSVImage',img_HSV)\n",
    "cv2.imshow('HueChannel', img_HSV[:, :,0])\n",
    "cv2.imshow('SaturationChannel', img_HSV[:, :,1])\n",
    "cv2.imshow('ValueChannel', img_HSV[:, :,2])\n",
    "cv2.waitKey(0)\n",
    " "
   ]
  },
  {
   "cell_type": "raw",
   "metadata": {},
   "source": [
    "# What Is Hue?\n",
    "Hues are the three primary colors (red, blue, and yellow) and the three secondary colors (orange, green, and violet) that appear in the color wheel or color circle. When you refer to hue, you are referring to pure color, or the visible spectrum of basic colors that can be seen in a rainbow.\n",
    "\n",
    "#What Is Saturation?\n",
    "Color saturation is the purity and intensity of a color as displayed in an image. The higher the saturation of a color, the more vivid and intense it is. The lower a color’s saturation, or chroma, the closer it is to pure gray on the grayscale.\n"
   ]
  },
  {
   "cell_type": "code",
   "execution_count": 4,
   "metadata": {},
   "outputs": [
    {
     "name": "stdout",
     "output_type": "stream",
     "text": [
      "275\n",
      "183\n",
      "91.66666666666667\n",
      "61.0\n",
      "[[ 0.        1.       61.      ]\n",
      " [ 1.        0.       91.666664]]\n",
      "(275, 183, 3)\n"
     ]
    }
   ],
   "source": [
    "#Example of image translation:\n",
    "import cv2\n",
    "import numpy as np\n",
    "#for reading image\n",
    "img = cv2.imread(\"caps.jpg\")\n",
    "height, width = img.shape[:2]\n",
    "print(height)\n",
    "print(width)\n",
    "quarter_height, quarter_width = height/3,width/3\n",
    "print(quarter_height)\n",
    "print(quarter_width)\n",
    "n =  np.float32([[0,1, quarter_width], [1,0, quarter_height]])\n",
    "print(n)\n",
    "# We use warpAffine function  to shift the image\n",
    "img_translation = cv2.warpAffine(img, n, (width, height))\n",
    "cv2.imshow('originalimage',img)\n",
    "cv2.waitKey(0)\n",
    "cv2.imshow('AfterTranslation',img_translation)\n",
    "cv2.waitKey(0)\n",
    "crop=img[70:170,50:130]\n",
    "cv2.imshow(\"cropped\",crop)\n",
    "cv2.waitKey(0)\n",
    "r=100.0/img.shape[1]\n",
    "dim=(100,int(img.shape[0]*r))\n",
    "dim=(100,20)\n",
    "resize=cv2.resize(img,dim,interpolation=cv2.INTER_AREA)\n",
    "cv2.imshow(\"resize\",resize)\n",
    "cv2.waitKey(0)\n",
    "print(img.shape)\n",
    "\n",
    "\n"
   ]
  },
  {
   "cell_type": "code",
   "execution_count": 7,
   "metadata": {},
   "outputs": [],
   "source": [
    "\n",
    "import cv2\n",
    "import numpy as np\n",
    "img = cv2.imread(\"caps.jpg\")\n",
    "height,width = img.shape[:2]\n",
    "rotation_matrix = cv2.getRotationMatrix2D((width,height), 65, .8)\n",
    "rotated_image = cv2.warpAffine(img, rotation_matrix, (width,height))\n",
    "cv2.imshow('Rotated Image',rotated_image)\n",
    "cv2.imshow('Original image',img)\n",
    "cv2.waitKey(0)\n",
    "cv2.destroyAllWindows()"
   ]
  },
  {
   "cell_type": "code",
   "execution_count": 8,
   "metadata": {},
   "outputs": [
    {
     "data": {
      "text/plain": [
       "True"
      ]
     },
     "execution_count": 8,
     "metadata": {},
     "output_type": "execute_result"
    }
   ],
   "source": [
    "cv2.imwrite(\"rotated_image.jpg\", rotated_image)"
   ]
  }
 ],
 "metadata": {
  "kernelspec": {
   "display_name": "Python 3 (ipykernel)",
   "language": "python",
   "name": "python3"
  },
  "language_info": {
   "codemirror_mode": {
    "name": "ipython",
    "version": 3
   },
   "file_extension": ".py",
   "mimetype": "text/x-python",
   "name": "python",
   "nbconvert_exporter": "python",
   "pygments_lexer": "ipython3",
   "version": "3.9.7"
  }
 },
 "nbformat": 4,
 "nbformat_minor": 4
}
